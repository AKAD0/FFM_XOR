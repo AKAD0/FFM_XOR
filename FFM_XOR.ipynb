{
 "cells": [
  {
   "cell_type": "code",
   "execution_count": 1,
   "metadata": {},
   "outputs": [],
   "source": [
    "import numpy as np"
   ]
  },
  {
   "cell_type": "code",
   "execution_count": null,
   "metadata": {},
   "outputs": [],
   "source": [
    "X = np.array([[0,0],[0,1],[1,0],[1,1]])"
   ]
  },
  {
   "cell_type": "code",
   "execution_count": 146,
   "metadata": {},
   "outputs": [],
   "source": [
    "def f2(h,w_f2,b_f2):\n",
    "    y = np.array( np.add( np.matmul( w_f2, np.transpose(h)), b_f2))\n",
    "    return y\n",
    "\n",
    "def f1_nonvect(z):\n",
    "    if z<0:\n",
    "        z=0\n",
    "    h=z\n",
    "    return h\n",
    "\n",
    "f1 = np.vectorize(f1_nonvect)\n",
    "\n",
    "def z1(x,w_f1,c_f1):\n",
    "    z = np.array( np.add( np.matmul( x,w_f1), c_f1))\n",
    "    return z\n",
    "\n",
    "def MSE(y,f_star,):\n",
    "    MSE = (1/4)*(np.sum(np.power((y-f_star),2)))\n",
    "    return MSE"
   ]
  },
  {
   "cell_type": "code",
   "execution_count": 148,
   "metadata": {},
   "outputs": [
    {
     "name": "stdout",
     "output_type": "stream",
     "text": [
      "Error:  0.0\n"
     ]
    }
   ],
   "source": [
    "X = np.array([[0,0],[0,1],[1,0],[1,1]])\n",
    "f_star = np.array([[0,1,1,0]])\n",
    "w_f1 = np.array([[1,1],[1,1]])\n",
    "w_f2 = np.array([[1,-2]])\n",
    "c_f1 = np.array([[0,-1]])\n",
    "b_f2 = 0\n",
    "\n",
    "h = f1(z1(X,w_f1,c_f1)) # 1st Layer\n",
    "y = f2(h,w_f2,b_f2)     # 2nd layer\n",
    "\n",
    "print(\"Error: \", MSE(y,f_star))"
   ]
  }
 ],
 "metadata": {
  "kernelspec": {
   "display_name": "Python 3",
   "language": "python",
   "name": "python3"
  },
  "language_info": {
   "codemirror_mode": {
    "name": "ipython",
    "version": 3
   },
   "file_extension": ".py",
   "mimetype": "text/x-python",
   "name": "python",
   "nbconvert_exporter": "python",
   "pygments_lexer": "ipython3",
   "version": "3.11.5"
  }
 },
 "nbformat": 4,
 "nbformat_minor": 2
}
